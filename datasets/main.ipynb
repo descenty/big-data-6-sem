{
 "cells": [
  {
   "cell_type": "code",
   "execution_count": 2,
   "metadata": {},
   "outputs": [
    {
     "name": "stdout",
     "output_type": "stream",
     "text": [
      "opened\n"
     ]
    }
   ],
   "source": [
    "from groups import update_groups_dataset\n",
    "\n",
    "update_groups_dataset(105)"
   ]
  },
  {
   "cell_type": "code",
   "execution_count": 12,
   "metadata": {},
   "outputs": [
    {
     "name": "stdout",
     "output_type": "stream",
     "text": [
      "id='20И6794' fio='Пономарев Владилен Игнатьевич' group='ИЭБО-54-22' financing='Б' gender='М' permanent_registration='клх Кинешма, наб. Мелиораторов, д. 429 стр. 856, 107691'\n"
     ]
    }
   ],
   "source": [
    "from random import choice, randint\n",
    "\n",
    "from students import Student\n",
    "from groups import get_groups\n",
    "from faker import Faker\n",
    "\n",
    "faker = Faker(\"ru_RU\")\n",
    "\n",
    "groups = get_groups()\n",
    "# first value in 'Название' column\n",
    "group_name = groups.iloc[0, 0]\n",
    "\n",
    "student_id = f\"{randint(20, 23)}И{randint(1, 9999):04d}\"\n",
    "gender = choice(\"МЖ\")\n",
    "print(Student(\n",
    "            id=student_id,\n",
    "            fio=faker.name_male() if gender == \"М\" else faker.name_female(),\n",
    "            group=group_name,\n",
    "            financing=choice([\"Б\", \"К\"]),\n",
    "            gender=gender,\n",
    "            permanent_registration=faker.address(),\n",
    "))"
   ]
  },
  {
   "cell_type": "code",
   "execution_count": 11,
   "metadata": {},
   "outputs": [
    {
     "name": "stdout",
     "output_type": "stream",
     "text": [
      "{'ИНБО-31-22': 30, 'ИВБО-94-22': 30, 'ИКБО-26-23': 30, 'ИЭБО-47-20': 30, 'ИНБО-38-21': 30, 'ИМБО-53-21': 30, 'ИЭБО-54-21': 30, 'ИМБО-60-21': 30, 'ИЛБО-30-21': 30, 'ИКБО-33-22': 30, 'ИВБО-25-20': 30, 'ИКБО-96-20': 30, 'ИМБО-93-20': 30, 'ИМБО-33-21': 30, 'ИКБО-25-22': 30, 'ИМБО-29-22': 30, 'ИЭБО-15-22': 30, 'ИВБО-33-22': 30, 'ИМБО-77-22': 30, 'ИЛБО-64-22': 30, 'ИЛБО-61-20': 30, 'ИМБО-05-21': 30, 'ИЛБО-10-21': 30, 'ИКБО-44-22': 30, 'ИКБО-70-20': 30, 'ИМБО-59-21': 30, 'ИЛБО-11-23': 30, 'ИНБО-42-20': 30, 'ИЭБО-26-20': 30, 'ИКБО-44-21': 30, 'ИНБО-49-21': 30, 'ИЭБО-44-23': 30, 'ИЭБО-14-22': 30, 'ИВБО-05-21': 30, 'ИНБО-05-20': 30, 'ИВБО-47-21': 30, 'ИКБО-99-23': 30, 'ИМБО-13-22': 30, 'ИВБО-52-20': 30, 'ИВБО-04-21': 30, 'ИМБО-95-22': 30, 'ИЛБО-71-21': 30, 'ИМБО-52-22': 30, 'ИКБО-38-21': 30, 'ИЭБО-79-21': 30, 'ИЛБО-44-20': 30, 'ИНБО-13-23': 30, 'ИКБО-03-21': 30, 'ИНБО-52-20': 30, 'ИНБО-05-23': 30, 'ИКБО-53-20': 30, 'ИВБО-60-23': 30, 'ИМБО-27-23': 30, 'ИВБО-11-21': 30, 'ИЛБО-51-21': 30, 'ИКБО-55-22': 30, 'ИКБО-13-23': 30, 'ИКБО-54-20': 30, 'ИЭБО-38-22': 30, 'ИЛБО-73-21': 30, 'ИЛБО-85-21': 30, 'ИНБО-24-23': 30, 'ИЛБО-37-22': 30, 'ИКБО-22-23': 30, 'ИЛБО-06-22': 30, 'ИМБО-07-20': 30, 'ИМБО-19-23': 30, 'ИМБО-33-23': 30, 'ИКБО-32-22': 30, 'ИЛБО-36-23': 30, 'ИЭБО-40-20': 30, 'ИЛБО-64-21': 30, 'ИЭБО-93-21': 30, 'ИВБО-28-23': 30, 'ИНБО-70-23': 30, 'ИКБО-89-22': 30, 'ИЭБО-74-21': 30, 'ИМБО-34-22': 30, 'ИМБО-50-23': 30, 'ИКБО-01-22': 30}\n"
     ]
    }
   ],
   "source": [
    "from students import get_students\n",
    "from groups import get_groups\n",
    "from config import load_config\n",
    "import pandas as pd\n",
    "\n",
    "actual_groups: pd.DataFrame = get_groups()\n",
    "group_names = actual_groups[\"Название\"].unique()\n",
    "\n",
    "actual_students: pd.DataFrame = get_students()\n",
    "students_in_groups = actual_students.groupby(\"Группа\").size().to_dict()\n",
    "\n",
    "students_to_generate = {\n",
    "    group_name: load_config().students_per_group - students_in_groups.get(group_name, 0)\n",
    "    for group_name in group_names\n",
    "}\n",
    "print(students_to_generate)"
   ]
  },
  {
   "cell_type": "code",
   "execution_count": 54,
   "metadata": {},
   "outputs": [
    {
     "name": "stdout",
     "output_type": "stream",
     "text": [
      "['Название', 'Специальность']\n"
     ]
    },
    {
     "data": {
      "text/plain": [
       "FrozenList([None])"
      ]
     },
     "execution_count": 54,
     "metadata": {},
     "output_type": "execute_result"
    }
   ],
   "source": [
    "import pandas as pd\n",
    "from groups import Group\n",
    "\n",
    "print([f.title for f in Group.model_fields.values()])\n",
    "\n",
    "pd.DataFrame(columns=[f.title for f in Group.model_fields.values()]).columns.names"
   ]
  },
  {
   "cell_type": "code",
   "execution_count": 3,
   "metadata": {},
   "outputs": [
    {
     "data": {
      "text/plain": [
       "[Student(id='23И9812', fio='Панов Никандр Вилорович', group='ИНБО-31-22', financing='Б', gender='М', permanent_registration_city='Краснодар')]"
      ]
     },
     "execution_count": 3,
     "metadata": {},
     "output_type": "execute_result"
    }
   ],
   "source": [
    "from students import generate_students\n",
    "\n",
    "generate_students([])"
   ]
  },
  {
   "cell_type": "code",
   "execution_count": 7,
   "metadata": {},
   "outputs": [
    {
     "ename": "ValueError",
     "evalue": "Превышено количество попыток генерации уникального личного номера студента",
     "output_type": "error",
     "traceback": [
      "\u001b[1;31m---------------------------------------------------------------------------\u001b[0m",
      "\u001b[1;31mValueError\u001b[0m                                Traceback (most recent call last)",
      "Cell \u001b[1;32mIn[7], line 3\u001b[0m\n\u001b[0;32m      1\u001b[0m \u001b[38;5;28;01mfrom\u001b[39;00m \u001b[38;5;21;01mstudents\u001b[39;00m \u001b[38;5;28;01mimport\u001b[39;00m update_students_dataset\n\u001b[1;32m----> 3\u001b[0m \u001b[43mupdate_students_dataset\u001b[49m\u001b[43m(\u001b[49m\u001b[43m)\u001b[49m\n",
      "File \u001b[1;32mc:\\VS Code Projects\\big-data-6-sem\\datasets-generation\\students\\__init__.py:101\u001b[0m, in \u001b[0;36mupdate_students_dataset\u001b[1;34m()\u001b[0m\n\u001b[0;32m      0\u001b[0m <Error retrieving source code with stack_data see ipython/ipython#13598>\n",
      "File \u001b[1;32mc:\\VS Code Projects\\big-data-6-sem\\datasets-generation\\students\\__init__.py:88\u001b[0m, in \u001b[0;36mgenerate_students\u001b[1;34m(used_student_ids)\u001b[0m\n\u001b[0;32m     84\u001b[0m     \u001b[38;5;28;01mif\u001b[39;00m students_count \u001b[38;5;241m<\u001b[39m\u001b[38;5;241m=\u001b[39m \u001b[38;5;241m0\u001b[39m:\n\u001b[0;32m     85\u001b[0m         \u001b[38;5;28;01mcontinue\u001b[39;00m\n\u001b[0;32m     86\u001b[0m     students: Generator[Student, \u001b[38;5;28;01mNone\u001b[39;00m, \u001b[38;5;28;01mNone\u001b[39;00m] \u001b[38;5;241m=\u001b[39m students_generator(\n\u001b[0;32m     87\u001b[0m         group_name, used_student_ids\n\u001b[1;32m---> 88\u001b[0m     )\n\u001b[0;32m     89\u001b[0m     generated_students\u001b[38;5;241m.\u001b[39mextend([\u001b[38;5;28mnext\u001b[39m(students) \u001b[38;5;28;01mfor\u001b[39;00m _ \u001b[38;5;129;01min\u001b[39;00m \u001b[38;5;28mrange\u001b[39m(students_count)])\n\u001b[0;32m     90\u001b[0m \u001b[38;5;28;01mreturn\u001b[39;00m generated_students\n",
      "File \u001b[1;32mc:\\VS Code Projects\\big-data-6-sem\\datasets-generation\\students\\__init__.py:50\u001b[0m, in \u001b[0;36mstudents_generator\u001b[1;34m(group_name, used_student_ids)\u001b[0m\n\u001b[0;32m     46\u001b[0m \u001b[38;5;28;01mwhile\u001b[39;00m (\n\u001b[0;32m     47\u001b[0m     student_id \u001b[38;5;241m:=\u001b[39m \u001b[38;5;124mf\u001b[39m\u001b[38;5;124m\"\u001b[39m\u001b[38;5;132;01m{\u001b[39;00mrandint(\u001b[38;5;241m20\u001b[39m,\u001b[38;5;250m \u001b[39m\u001b[38;5;241m23\u001b[39m)\u001b[38;5;132;01m}\u001b[39;00m\u001b[38;5;124mИ\u001b[39m\u001b[38;5;132;01m{\u001b[39;00mrandint(\u001b[38;5;241m1\u001b[39m,\u001b[38;5;250m \u001b[39m\u001b[38;5;241m9999\u001b[39m)\u001b[38;5;132;01m:\u001b[39;00m\u001b[38;5;124m04d\u001b[39m\u001b[38;5;132;01m}\u001b[39;00m\u001b[38;5;124m\"\u001b[39m\n\u001b[0;32m     48\u001b[0m ) \u001b[38;5;129;01min\u001b[39;00m used_student_ids:\n\u001b[0;32m     49\u001b[0m     attempt \u001b[38;5;241m+\u001b[39m\u001b[38;5;241m=\u001b[39m \u001b[38;5;241m1\u001b[39m\n\u001b[1;32m---> 50\u001b[0m     \u001b[38;5;28;01mif\u001b[39;00m attempt \u001b[38;5;241m>\u001b[39m \u001b[38;5;241m10\u001b[39m:\n\u001b[0;32m     51\u001b[0m         \u001b[38;5;28;01mraise\u001b[39;00m \u001b[38;5;167;01mValueError\u001b[39;00m(\n\u001b[0;32m     52\u001b[0m             \u001b[38;5;124m\"\u001b[39m\u001b[38;5;124mПревышено количество попыток генерации уникального личного номера студента\u001b[39m\u001b[38;5;124m\"\u001b[39m\n\u001b[0;32m     53\u001b[0m         )\n\u001b[0;32m     54\u001b[0m used_student_ids\u001b[38;5;241m.\u001b[39mappend(student_id)\n",
      "\u001b[1;31mValueError\u001b[0m: Превышено количество попыток генерации уникального личного номера студента"
     ]
    }
   ],
   "source": [
    "from students import update_students_dataset\n",
    "\n",
    "update_students_dataset()"
   ]
  }
 ],
 "metadata": {
  "kernelspec": {
   "display_name": "datasets-generation-aFisT93X-py3.12",
   "language": "python",
   "name": "python3"
  },
  "language_info": {
   "codemirror_mode": {
    "name": "ipython",
    "version": 3
   },
   "file_extension": ".py",
   "mimetype": "text/x-python",
   "name": "python",
   "nbconvert_exporter": "python",
   "pygments_lexer": "ipython3",
   "version": "3.12.1"
  }
 },
 "nbformat": 4,
 "nbformat_minor": 2
}
