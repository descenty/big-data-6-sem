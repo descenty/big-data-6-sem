{
 "cells": [
  {
   "cell_type": "code",
   "execution_count": 1,
   "metadata": {},
   "outputs": [],
   "source": [
    "import pyarrow.parquet\n",
    "import pyiceberg\n",
    "from pyiceberg.catalog import Catalog, load_catalog\n",
    "import pyarrow\n",
    "import pyiceberg.exceptions\n",
    "from pyiceberg.table import Table\n",
    "\n",
    "catalog: Catalog = load_catalog(\n",
    "    \"default\",\n",
    "    **{\n",
    "        \"uri\": \"http://87.242.86.99:8181\",\n",
    "        \"s3.endpoint\": \"http://87.242.86.99:9000\",\n",
    "        \"s3.access-key-id\": \"descenty\",\n",
    "        \"s3.secret-access-key\": \"09102003sK\",\n",
    "    }\n",
    ")"
   ]
  },
  {
   "cell_type": "code",
   "execution_count": 2,
   "metadata": {},
   "outputs": [],
   "source": [
    "df: pyarrow.Table = pyarrow.parquet.read_table(\"groups/groups.parquet\")\n",
    "try:\n",
    "    groups_table: Table = catalog.load_table(\"default.groups\")\n",
    "except pyiceberg.exceptions.NoSuchTableError:\n",
    "    groups_table: Table = catalog.create_table(\"default.groups\", df.schema)\n",
    "\n",
    "groups_table.overwrite(df)"
   ]
  },
  {
   "cell_type": "code",
   "execution_count": 4,
   "metadata": {},
   "outputs": [
    {
     "data": {
      "text/plain": [
       "[('default', 'example_table'), ('default', 'groups')]"
      ]
     },
     "execution_count": 4,
     "metadata": {},
     "output_type": "execute_result"
    }
   ],
   "source": [
    "catalog.list_tables(\"default\")"
   ]
  },
  {
   "cell_type": "code",
   "execution_count": 5,
   "metadata": {},
   "outputs": [
    {
     "data": {
      "text/html": [
       "<div>\n",
       "<style scoped>\n",
       "    .dataframe tbody tr th:only-of-type {\n",
       "        vertical-align: middle;\n",
       "    }\n",
       "\n",
       "    .dataframe tbody tr th {\n",
       "        vertical-align: top;\n",
       "    }\n",
       "\n",
       "    .dataframe thead th {\n",
       "        text-align: right;\n",
       "    }\n",
       "</style>\n",
       "<table border=\"1\" class=\"dataframe\">\n",
       "  <thead>\n",
       "    <tr style=\"text-align: right;\">\n",
       "      <th></th>\n",
       "      <th>Название</th>\n",
       "      <th>Специальность</th>\n",
       "    </tr>\n",
       "  </thead>\n",
       "  <tbody>\n",
       "    <tr>\n",
       "      <th>0</th>\n",
       "      <td>ИАБО-01-04</td>\n",
       "      <td>Информационные технологии и разработка програм...</td>\n",
       "    </tr>\n",
       "    <tr>\n",
       "      <th>1</th>\n",
       "      <td>ИАБО-02-04</td>\n",
       "      <td>Сетевые технологии и администрирование сетей</td>\n",
       "    </tr>\n",
       "    <tr>\n",
       "      <th>2</th>\n",
       "      <td>ИАБО-03-04</td>\n",
       "      <td>Программирование и разработка на языке Java</td>\n",
       "    </tr>\n",
       "    <tr>\n",
       "      <th>3</th>\n",
       "      <td>ИАБО-04-04</td>\n",
       "      <td>Аналитика данных в бизнесе и финансах</td>\n",
       "    </tr>\n",
       "    <tr>\n",
       "      <th>4</th>\n",
       "      <td>ИАБО-05-04</td>\n",
       "      <td>Сетевые технологии и администрирование сетей</td>\n",
       "    </tr>\n",
       "    <tr>\n",
       "      <th>...</th>\n",
       "      <td>...</td>\n",
       "      <td>...</td>\n",
       "    </tr>\n",
       "    <tr>\n",
       "      <th>99995</th>\n",
       "      <td>ИАБО-96-24</td>\n",
       "      <td>Программирование и разработка на языке Java</td>\n",
       "    </tr>\n",
       "    <tr>\n",
       "      <th>99996</th>\n",
       "      <td>ИАБО-97-24</td>\n",
       "      <td>Аналитика данных в бизнесе и финансах</td>\n",
       "    </tr>\n",
       "    <tr>\n",
       "      <th>99997</th>\n",
       "      <td>ИАБО-98-24</td>\n",
       "      <td>Разработка мобильных приложений и IoT</td>\n",
       "    </tr>\n",
       "    <tr>\n",
       "      <th>99998</th>\n",
       "      <td>ИАБО-99-24</td>\n",
       "      <td>Разработка мобильных приложений и IoT</td>\n",
       "    </tr>\n",
       "    <tr>\n",
       "      <th>99999</th>\n",
       "      <td>ИАБО-100-24</td>\n",
       "      <td>Аналитика данных в бизнесе и финансах</td>\n",
       "    </tr>\n",
       "  </tbody>\n",
       "</table>\n",
       "<p>100000 rows × 2 columns</p>\n",
       "</div>"
      ],
      "text/plain": [
       "          Название                                      Специальность\n",
       "0       ИАБО-01-04  Информационные технологии и разработка програм...\n",
       "1       ИАБО-02-04       Сетевые технологии и администрирование сетей\n",
       "2       ИАБО-03-04        Программирование и разработка на языке Java\n",
       "3       ИАБО-04-04              Аналитика данных в бизнесе и финансах\n",
       "4       ИАБО-05-04       Сетевые технологии и администрирование сетей\n",
       "...            ...                                                ...\n",
       "99995   ИАБО-96-24        Программирование и разработка на языке Java\n",
       "99996   ИАБО-97-24              Аналитика данных в бизнесе и финансах\n",
       "99997   ИАБО-98-24              Разработка мобильных приложений и IoT\n",
       "99998   ИАБО-99-24              Разработка мобильных приложений и IoT\n",
       "99999  ИАБО-100-24              Аналитика данных в бизнесе и финансах\n",
       "\n",
       "[100000 rows x 2 columns]"
      ]
     },
     "execution_count": 5,
     "metadata": {},
     "output_type": "execute_result"
    }
   ],
   "source": [
    "catalog.load_table(\"default.groups\").scan().to_pandas()"
   ]
  }
 ],
 "metadata": {
  "kernelspec": {
   "display_name": "datasets-generation-iKdB8DkJ-py3.12",
   "language": "python",
   "name": "python3"
  },
  "language_info": {
   "codemirror_mode": {
    "name": "ipython",
    "version": 3
   },
   "file_extension": ".py",
   "mimetype": "text/x-python",
   "name": "python",
   "nbconvert_exporter": "python",
   "pygments_lexer": "ipython3",
   "version": "3.12.1"
  }
 },
 "nbformat": 4,
 "nbformat_minor": 2
}
